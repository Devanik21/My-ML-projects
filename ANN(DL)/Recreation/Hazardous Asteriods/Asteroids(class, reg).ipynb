{
 "cells": [
  {
   "cell_type": "code",
   "execution_count": 1,
   "metadata": {},
   "outputs": [],
   "source": [
    "# Import required libraries\n",
    "import tensorflow as tf\n",
    "from sklearn.model_selection import train_test_split\n",
    "from sklearn.preprocessing import StandardScaler\n",
    "from tensorflow.keras.models import Sequential\n",
    "from tensorflow.keras.layers import Dense\n",
    "from tensorflow.keras.callbacks import EarlyStopping"
   ]
  },
  {
   "cell_type": "code",
   "execution_count": 2,
   "metadata": {},
   "outputs": [],
   "source": [
    "\n",
    "from pandas import  *\n",
    "from numpy import *\n",
    "from seaborn import *\n",
    "from matplotlib.pyplot import *\n",
    "from sklearn.linear_model import LinearRegression\n",
    "from sklearn.preprocessing import PolynomialFeatures\n",
    "from sklearn.preprocessing import LabelEncoder\n",
    "from sklearn.preprocessing import MinMaxScaler"
   ]
  },
  {
   "cell_type": "code",
   "execution_count": 3,
   "metadata": {},
   "outputs": [],
   "source": [
    "df=read_csv('orbits.csv')"
   ]
  },
  {
   "cell_type": "code",
   "execution_count": 4,
   "metadata": {},
   "outputs": [
    {
     "data": {
      "text/html": [
       "<div>\n",
       "<style scoped>\n",
       "    .dataframe tbody tr th:only-of-type {\n",
       "        vertical-align: middle;\n",
       "    }\n",
       "\n",
       "    .dataframe tbody tr th {\n",
       "        vertical-align: top;\n",
       "    }\n",
       "\n",
       "    .dataframe thead th {\n",
       "        text-align: right;\n",
       "    }\n",
       "</style>\n",
       "<table border=\"1\" class=\"dataframe\">\n",
       "  <thead>\n",
       "    <tr style=\"text-align: right;\">\n",
       "      <th></th>\n",
       "      <th>Object Name</th>\n",
       "      <th>Object Classification</th>\n",
       "      <th>Epoch (TDB)</th>\n",
       "      <th>Orbit Axis (AU)</th>\n",
       "      <th>Orbit Eccentricity</th>\n",
       "      <th>Orbit Inclination (deg)</th>\n",
       "      <th>Perihelion Argument (deg)</th>\n",
       "      <th>Node Longitude (deg)</th>\n",
       "      <th>Mean Anomoly (deg)</th>\n",
       "      <th>Perihelion Distance (AU)</th>\n",
       "      <th>Aphelion Distance (AU)</th>\n",
       "      <th>Orbital Period (yr)</th>\n",
       "      <th>Minimum Orbit Intersection Distance (AU)</th>\n",
       "      <th>Orbital Reference</th>\n",
       "      <th>Asteroid Magnitude</th>\n",
       "    </tr>\n",
       "  </thead>\n",
       "  <tbody>\n",
       "    <tr>\n",
       "      <th>0</th>\n",
       "      <td>433 Eros</td>\n",
       "      <td>Amor Asteroid</td>\n",
       "      <td>57800</td>\n",
       "      <td>1.4579</td>\n",
       "      <td>0.2226</td>\n",
       "      <td>10.8277</td>\n",
       "      <td>178.8050</td>\n",
       "      <td>304.3265</td>\n",
       "      <td>319.3111</td>\n",
       "      <td>1.1335</td>\n",
       "      <td>1.78</td>\n",
       "      <td>1.76</td>\n",
       "      <td>0.1492</td>\n",
       "      <td>598</td>\n",
       "      <td>11.16</td>\n",
       "    </tr>\n",
       "    <tr>\n",
       "      <th>1</th>\n",
       "      <td>719 Albert</td>\n",
       "      <td>Amor Asteroid</td>\n",
       "      <td>57800</td>\n",
       "      <td>2.6385</td>\n",
       "      <td>0.5479</td>\n",
       "      <td>11.5822</td>\n",
       "      <td>156.1409</td>\n",
       "      <td>183.9204</td>\n",
       "      <td>224.5535</td>\n",
       "      <td>1.1928</td>\n",
       "      <td>4.08</td>\n",
       "      <td>4.29</td>\n",
       "      <td>0.2004</td>\n",
       "      <td>78</td>\n",
       "      <td>15.50</td>\n",
       "    </tr>\n",
       "    <tr>\n",
       "      <th>2</th>\n",
       "      <td>887 Alinda</td>\n",
       "      <td>Amor Asteroid</td>\n",
       "      <td>57800</td>\n",
       "      <td>2.4787</td>\n",
       "      <td>0.5671</td>\n",
       "      <td>9.3561</td>\n",
       "      <td>350.3482</td>\n",
       "      <td>110.5444</td>\n",
       "      <td>351.3730</td>\n",
       "      <td>1.0731</td>\n",
       "      <td>3.88</td>\n",
       "      <td>3.90</td>\n",
       "      <td>0.0925</td>\n",
       "      <td>188</td>\n",
       "      <td>13.40</td>\n",
       "    </tr>\n",
       "    <tr>\n",
       "      <th>3</th>\n",
       "      <td>1036 Ganymed</td>\n",
       "      <td>Amor Asteroid</td>\n",
       "      <td>57800</td>\n",
       "      <td>2.6628</td>\n",
       "      <td>0.5338</td>\n",
       "      <td>26.6929</td>\n",
       "      <td>132.4690</td>\n",
       "      <td>215.5551</td>\n",
       "      <td>92.5640</td>\n",
       "      <td>1.2413</td>\n",
       "      <td>4.08</td>\n",
       "      <td>4.35</td>\n",
       "      <td>0.3421</td>\n",
       "      <td>597</td>\n",
       "      <td>9.45</td>\n",
       "    </tr>\n",
       "    <tr>\n",
       "      <th>4</th>\n",
       "      <td>1221 Amor</td>\n",
       "      <td>Amor Asteroid</td>\n",
       "      <td>57800</td>\n",
       "      <td>1.9191</td>\n",
       "      <td>0.4356</td>\n",
       "      <td>11.8795</td>\n",
       "      <td>26.6572</td>\n",
       "      <td>171.3448</td>\n",
       "      <td>313.7379</td>\n",
       "      <td>1.0832</td>\n",
       "      <td>2.76</td>\n",
       "      <td>2.66</td>\n",
       "      <td>0.1068</td>\n",
       "      <td>70</td>\n",
       "      <td>17.70</td>\n",
       "    </tr>\n",
       "    <tr>\n",
       "      <th>...</th>\n",
       "      <td>...</td>\n",
       "      <td>...</td>\n",
       "      <td>...</td>\n",
       "      <td>...</td>\n",
       "      <td>...</td>\n",
       "      <td>...</td>\n",
       "      <td>...</td>\n",
       "      <td>...</td>\n",
       "      <td>...</td>\n",
       "      <td>...</td>\n",
       "      <td>...</td>\n",
       "      <td>...</td>\n",
       "      <td>...</td>\n",
       "      <td>...</td>\n",
       "      <td>...</td>\n",
       "    </tr>\n",
       "    <tr>\n",
       "      <th>15630</th>\n",
       "      <td>(2017 CX1)</td>\n",
       "      <td>Apollo Asteroid</td>\n",
       "      <td>57800</td>\n",
       "      <td>1.4096</td>\n",
       "      <td>0.2946</td>\n",
       "      <td>3.4011</td>\n",
       "      <td>353.7433</td>\n",
       "      <td>138.1226</td>\n",
       "      <td>8.7456</td>\n",
       "      <td>0.9943</td>\n",
       "      <td>1.82</td>\n",
       "      <td>1.67</td>\n",
       "      <td>0.0092</td>\n",
       "      <td>2</td>\n",
       "      <td>28.21</td>\n",
       "    </tr>\n",
       "    <tr>\n",
       "      <th>15631</th>\n",
       "      <td>(2017 CO5)</td>\n",
       "      <td>Amor Asteroid</td>\n",
       "      <td>57789</td>\n",
       "      <td>2.2612</td>\n",
       "      <td>0.4429</td>\n",
       "      <td>28.9728</td>\n",
       "      <td>147.6444</td>\n",
       "      <td>348.1501</td>\n",
       "      <td>5.7171</td>\n",
       "      <td>1.2598</td>\n",
       "      <td>3.26</td>\n",
       "      <td>3.40</td>\n",
       "      <td>0.3136</td>\n",
       "      <td>2</td>\n",
       "      <td>20.04</td>\n",
       "    </tr>\n",
       "    <tr>\n",
       "      <th>15632</th>\n",
       "      <td>(2017 CP5)</td>\n",
       "      <td>Amor Asteroid</td>\n",
       "      <td>57800</td>\n",
       "      <td>1.5131</td>\n",
       "      <td>0.3275</td>\n",
       "      <td>14.2656</td>\n",
       "      <td>46.6749</td>\n",
       "      <td>130.7234</td>\n",
       "      <td>344.8663</td>\n",
       "      <td>1.0175</td>\n",
       "      <td>2.01</td>\n",
       "      <td>1.86</td>\n",
       "      <td>0.0934</td>\n",
       "      <td>1</td>\n",
       "      <td>24.74</td>\n",
       "    </tr>\n",
       "    <tr>\n",
       "      <th>15633</th>\n",
       "      <td>(2017 CR5)</td>\n",
       "      <td>Apollo Asteroid</td>\n",
       "      <td>57793</td>\n",
       "      <td>1.8815</td>\n",
       "      <td>0.4646</td>\n",
       "      <td>7.1647</td>\n",
       "      <td>0.2261</td>\n",
       "      <td>136.7746</td>\n",
       "      <td>1.1654</td>\n",
       "      <td>1.0073</td>\n",
       "      <td>2.76</td>\n",
       "      <td>2.58</td>\n",
       "      <td>0.0213</td>\n",
       "      <td>1</td>\n",
       "      <td>26.95</td>\n",
       "    </tr>\n",
       "    <tr>\n",
       "      <th>15634</th>\n",
       "      <td>(6344 P-L)</td>\n",
       "      <td>Apollo Asteroid (Hazard)</td>\n",
       "      <td>57800</td>\n",
       "      <td>2.8043</td>\n",
       "      <td>0.6672</td>\n",
       "      <td>4.7249</td>\n",
       "      <td>234.1260</td>\n",
       "      <td>183.5747</td>\n",
       "      <td>349.5302</td>\n",
       "      <td>0.9332</td>\n",
       "      <td>4.68</td>\n",
       "      <td>4.70</td>\n",
       "      <td>0.0288</td>\n",
       "      <td>16</td>\n",
       "      <td>20.40</td>\n",
       "    </tr>\n",
       "  </tbody>\n",
       "</table>\n",
       "<p>15635 rows × 15 columns</p>\n",
       "</div>"
      ],
      "text/plain": [
       "        Object Name     Object Classification  Epoch (TDB)  Orbit Axis (AU)  \\\n",
       "0          433 Eros             Amor Asteroid        57800           1.4579   \n",
       "1        719 Albert             Amor Asteroid        57800           2.6385   \n",
       "2        887 Alinda             Amor Asteroid        57800           2.4787   \n",
       "3      1036 Ganymed             Amor Asteroid        57800           2.6628   \n",
       "4         1221 Amor             Amor Asteroid        57800           1.9191   \n",
       "...             ...                       ...          ...              ...   \n",
       "15630    (2017 CX1)           Apollo Asteroid        57800           1.4096   \n",
       "15631    (2017 CO5)             Amor Asteroid        57789           2.2612   \n",
       "15632    (2017 CP5)             Amor Asteroid        57800           1.5131   \n",
       "15633    (2017 CR5)           Apollo Asteroid        57793           1.8815   \n",
       "15634    (6344 P-L)  Apollo Asteroid (Hazard)        57800           2.8043   \n",
       "\n",
       "       Orbit Eccentricity  Orbit Inclination (deg)  Perihelion Argument (deg)  \\\n",
       "0                  0.2226                  10.8277                   178.8050   \n",
       "1                  0.5479                  11.5822                   156.1409   \n",
       "2                  0.5671                   9.3561                   350.3482   \n",
       "3                  0.5338                  26.6929                   132.4690   \n",
       "4                  0.4356                  11.8795                    26.6572   \n",
       "...                   ...                      ...                        ...   \n",
       "15630              0.2946                   3.4011                   353.7433   \n",
       "15631              0.4429                  28.9728                   147.6444   \n",
       "15632              0.3275                  14.2656                    46.6749   \n",
       "15633              0.4646                   7.1647                     0.2261   \n",
       "15634              0.6672                   4.7249                   234.1260   \n",
       "\n",
       "       Node Longitude (deg)  Mean Anomoly (deg)  Perihelion Distance (AU)  \\\n",
       "0                  304.3265            319.3111                    1.1335   \n",
       "1                  183.9204            224.5535                    1.1928   \n",
       "2                  110.5444            351.3730                    1.0731   \n",
       "3                  215.5551             92.5640                    1.2413   \n",
       "4                  171.3448            313.7379                    1.0832   \n",
       "...                     ...                 ...                       ...   \n",
       "15630              138.1226              8.7456                    0.9943   \n",
       "15631              348.1501              5.7171                    1.2598   \n",
       "15632              130.7234            344.8663                    1.0175   \n",
       "15633              136.7746              1.1654                    1.0073   \n",
       "15634              183.5747            349.5302                    0.9332   \n",
       "\n",
       "       Aphelion Distance (AU)  Orbital Period (yr)  \\\n",
       "0                        1.78                 1.76   \n",
       "1                        4.08                 4.29   \n",
       "2                        3.88                 3.90   \n",
       "3                        4.08                 4.35   \n",
       "4                        2.76                 2.66   \n",
       "...                       ...                  ...   \n",
       "15630                    1.82                 1.67   \n",
       "15631                    3.26                 3.40   \n",
       "15632                    2.01                 1.86   \n",
       "15633                    2.76                 2.58   \n",
       "15634                    4.68                 4.70   \n",
       "\n",
       "       Minimum Orbit Intersection Distance (AU)  Orbital Reference  \\\n",
       "0                                        0.1492                598   \n",
       "1                                        0.2004                 78   \n",
       "2                                        0.0925                188   \n",
       "3                                        0.3421                597   \n",
       "4                                        0.1068                 70   \n",
       "...                                         ...                ...   \n",
       "15630                                    0.0092                  2   \n",
       "15631                                    0.3136                  2   \n",
       "15632                                    0.0934                  1   \n",
       "15633                                    0.0213                  1   \n",
       "15634                                    0.0288                 16   \n",
       "\n",
       "       Asteroid Magnitude  \n",
       "0                   11.16  \n",
       "1                   15.50  \n",
       "2                   13.40  \n",
       "3                    9.45  \n",
       "4                   17.70  \n",
       "...                   ...  \n",
       "15630               28.21  \n",
       "15631               20.04  \n",
       "15632               24.74  \n",
       "15633               26.95  \n",
       "15634               20.40  \n",
       "\n",
       "[15635 rows x 15 columns]"
      ]
     },
     "execution_count": 4,
     "metadata": {},
     "output_type": "execute_result"
    }
   ],
   "source": [
    "df"
   ]
  },
  {
   "cell_type": "code",
   "execution_count": 5,
   "metadata": {},
   "outputs": [
    {
     "data": {
      "text/plain": [
       "Object Name                                 0\n",
       "Object Classification                       0\n",
       "Epoch (TDB)                                 0\n",
       "Orbit Axis (AU)                             0\n",
       "Orbit Eccentricity                          0\n",
       "Orbit Inclination (deg)                     0\n",
       "Perihelion Argument (deg)                   0\n",
       "Node Longitude (deg)                        0\n",
       "Mean Anomoly (deg)                          0\n",
       "Perihelion Distance (AU)                    0\n",
       "Aphelion Distance (AU)                      0\n",
       "Orbital Period (yr)                         0\n",
       "Minimum Orbit Intersection Distance (AU)    0\n",
       "Orbital Reference                           0\n",
       "Asteroid Magnitude                          1\n",
       "dtype: int64"
      ]
     },
     "execution_count": 5,
     "metadata": {},
     "output_type": "execute_result"
    }
   ],
   "source": [
    "df.isnull().sum()"
   ]
  },
  {
   "cell_type": "code",
   "execution_count": 6,
   "metadata": {},
   "outputs": [],
   "source": [
    "df=df.dropna()"
   ]
  },
  {
   "cell_type": "markdown",
   "metadata": {},
   "source": [
    "To predict Object Classification\n"
   ]
  },
  {
   "cell_type": "code",
   "execution_count": 7,
   "metadata": {},
   "outputs": [],
   "source": [
    "x=df.iloc[:,2:]"
   ]
  },
  {
   "cell_type": "code",
   "execution_count": 8,
   "metadata": {},
   "outputs": [
    {
     "data": {
      "text/plain": [
       "Index(['Epoch (TDB)', 'Orbit Axis (AU)', 'Orbit Eccentricity',\n",
       "       'Orbit Inclination (deg)', 'Perihelion Argument (deg)',\n",
       "       'Node Longitude (deg)', 'Mean Anomoly (deg)',\n",
       "       'Perihelion Distance (AU)', 'Aphelion Distance (AU)',\n",
       "       'Orbital Period (yr)', 'Minimum Orbit Intersection Distance (AU)',\n",
       "       'Orbital Reference', 'Asteroid Magnitude'],\n",
       "      dtype='object')"
      ]
     },
     "execution_count": 8,
     "metadata": {},
     "output_type": "execute_result"
    }
   ],
   "source": [
    "x.columns"
   ]
  },
  {
   "cell_type": "code",
   "execution_count": 9,
   "metadata": {},
   "outputs": [
    {
     "data": {
      "text/plain": [
       "(15634, 13)"
      ]
     },
     "execution_count": 9,
     "metadata": {},
     "output_type": "execute_result"
    }
   ],
   "source": [
    "x.shape"
   ]
  },
  {
   "cell_type": "code",
   "execution_count": 10,
   "metadata": {},
   "outputs": [],
   "source": [
    "y=df[['Object Classification']]"
   ]
  },
  {
   "cell_type": "code",
   "execution_count": 11,
   "metadata": {},
   "outputs": [
    {
     "data": {
      "text/html": [
       "<div>\n",
       "<style scoped>\n",
       "    .dataframe tbody tr th:only-of-type {\n",
       "        vertical-align: middle;\n",
       "    }\n",
       "\n",
       "    .dataframe tbody tr th {\n",
       "        vertical-align: top;\n",
       "    }\n",
       "\n",
       "    .dataframe thead th {\n",
       "        text-align: right;\n",
       "    }\n",
       "</style>\n",
       "<table border=\"1\" class=\"dataframe\">\n",
       "  <thead>\n",
       "    <tr style=\"text-align: right;\">\n",
       "      <th></th>\n",
       "      <th>Object Classification</th>\n",
       "    </tr>\n",
       "  </thead>\n",
       "  <tbody>\n",
       "    <tr>\n",
       "      <th>0</th>\n",
       "      <td>Amor Asteroid</td>\n",
       "    </tr>\n",
       "    <tr>\n",
       "      <th>1</th>\n",
       "      <td>Amor Asteroid</td>\n",
       "    </tr>\n",
       "    <tr>\n",
       "      <th>2</th>\n",
       "      <td>Amor Asteroid</td>\n",
       "    </tr>\n",
       "    <tr>\n",
       "      <th>3</th>\n",
       "      <td>Amor Asteroid</td>\n",
       "    </tr>\n",
       "    <tr>\n",
       "      <th>4</th>\n",
       "      <td>Amor Asteroid</td>\n",
       "    </tr>\n",
       "    <tr>\n",
       "      <th>...</th>\n",
       "      <td>...</td>\n",
       "    </tr>\n",
       "    <tr>\n",
       "      <th>15630</th>\n",
       "      <td>Apollo Asteroid</td>\n",
       "    </tr>\n",
       "    <tr>\n",
       "      <th>15631</th>\n",
       "      <td>Amor Asteroid</td>\n",
       "    </tr>\n",
       "    <tr>\n",
       "      <th>15632</th>\n",
       "      <td>Amor Asteroid</td>\n",
       "    </tr>\n",
       "    <tr>\n",
       "      <th>15633</th>\n",
       "      <td>Apollo Asteroid</td>\n",
       "    </tr>\n",
       "    <tr>\n",
       "      <th>15634</th>\n",
       "      <td>Apollo Asteroid (Hazard)</td>\n",
       "    </tr>\n",
       "  </tbody>\n",
       "</table>\n",
       "<p>15634 rows × 1 columns</p>\n",
       "</div>"
      ],
      "text/plain": [
       "          Object Classification\n",
       "0                 Amor Asteroid\n",
       "1                 Amor Asteroid\n",
       "2                 Amor Asteroid\n",
       "3                 Amor Asteroid\n",
       "4                 Amor Asteroid\n",
       "...                         ...\n",
       "15630           Apollo Asteroid\n",
       "15631             Amor Asteroid\n",
       "15632             Amor Asteroid\n",
       "15633           Apollo Asteroid\n",
       "15634  Apollo Asteroid (Hazard)\n",
       "\n",
       "[15634 rows x 1 columns]"
      ]
     },
     "execution_count": 11,
     "metadata": {},
     "output_type": "execute_result"
    }
   ],
   "source": [
    "y"
   ]
  },
  {
   "cell_type": "markdown",
   "metadata": {},
   "source": [
    "RF"
   ]
  },
  {
   "cell_type": "code",
   "execution_count": 12,
   "metadata": {},
   "outputs": [],
   "source": [
    "from sklearn.model_selection import train_test_split\n",
    "x_train,x_test,y_train,y_test=train_test_split(x,y,test_size=0.2,random_state=128)"
   ]
  },
  {
   "cell_type": "code",
   "execution_count": 13,
   "metadata": {},
   "outputs": [
    {
     "name": "stderr",
     "output_type": "stream",
     "text": [
      "C:\\Users\\debna\\AppData\\Local\\Temp\\ipykernel_5324\\2167681452.py:3: DataConversionWarning: A column-vector y was passed when a 1d array was expected. Please change the shape of y to (n_samples,), for example using ravel().\n",
      "  r.fit(x_train,y_train)\n"
     ]
    },
    {
     "data": {
      "text/html": [
       "<style>#sk-container-id-1 {color: black;background-color: white;}#sk-container-id-1 pre{padding: 0;}#sk-container-id-1 div.sk-toggleable {background-color: white;}#sk-container-id-1 label.sk-toggleable__label {cursor: pointer;display: block;width: 100%;margin-bottom: 0;padding: 0.3em;box-sizing: border-box;text-align: center;}#sk-container-id-1 label.sk-toggleable__label-arrow:before {content: \"▸\";float: left;margin-right: 0.25em;color: #696969;}#sk-container-id-1 label.sk-toggleable__label-arrow:hover:before {color: black;}#sk-container-id-1 div.sk-estimator:hover label.sk-toggleable__label-arrow:before {color: black;}#sk-container-id-1 div.sk-toggleable__content {max-height: 0;max-width: 0;overflow: hidden;text-align: left;background-color: #f0f8ff;}#sk-container-id-1 div.sk-toggleable__content pre {margin: 0.2em;color: black;border-radius: 0.25em;background-color: #f0f8ff;}#sk-container-id-1 input.sk-toggleable__control:checked~div.sk-toggleable__content {max-height: 200px;max-width: 100%;overflow: auto;}#sk-container-id-1 input.sk-toggleable__control:checked~label.sk-toggleable__label-arrow:before {content: \"▾\";}#sk-container-id-1 div.sk-estimator input.sk-toggleable__control:checked~label.sk-toggleable__label {background-color: #d4ebff;}#sk-container-id-1 div.sk-label input.sk-toggleable__control:checked~label.sk-toggleable__label {background-color: #d4ebff;}#sk-container-id-1 input.sk-hidden--visually {border: 0;clip: rect(1px 1px 1px 1px);clip: rect(1px, 1px, 1px, 1px);height: 1px;margin: -1px;overflow: hidden;padding: 0;position: absolute;width: 1px;}#sk-container-id-1 div.sk-estimator {font-family: monospace;background-color: #f0f8ff;border: 1px dotted black;border-radius: 0.25em;box-sizing: border-box;margin-bottom: 0.5em;}#sk-container-id-1 div.sk-estimator:hover {background-color: #d4ebff;}#sk-container-id-1 div.sk-parallel-item::after {content: \"\";width: 100%;border-bottom: 1px solid gray;flex-grow: 1;}#sk-container-id-1 div.sk-label:hover label.sk-toggleable__label {background-color: #d4ebff;}#sk-container-id-1 div.sk-serial::before {content: \"\";position: absolute;border-left: 1px solid gray;box-sizing: border-box;top: 0;bottom: 0;left: 50%;z-index: 0;}#sk-container-id-1 div.sk-serial {display: flex;flex-direction: column;align-items: center;background-color: white;padding-right: 0.2em;padding-left: 0.2em;position: relative;}#sk-container-id-1 div.sk-item {position: relative;z-index: 1;}#sk-container-id-1 div.sk-parallel {display: flex;align-items: stretch;justify-content: center;background-color: white;position: relative;}#sk-container-id-1 div.sk-item::before, #sk-container-id-1 div.sk-parallel-item::before {content: \"\";position: absolute;border-left: 1px solid gray;box-sizing: border-box;top: 0;bottom: 0;left: 50%;z-index: -1;}#sk-container-id-1 div.sk-parallel-item {display: flex;flex-direction: column;z-index: 1;position: relative;background-color: white;}#sk-container-id-1 div.sk-parallel-item:first-child::after {align-self: flex-end;width: 50%;}#sk-container-id-1 div.sk-parallel-item:last-child::after {align-self: flex-start;width: 50%;}#sk-container-id-1 div.sk-parallel-item:only-child::after {width: 0;}#sk-container-id-1 div.sk-dashed-wrapped {border: 1px dashed gray;margin: 0 0.4em 0.5em 0.4em;box-sizing: border-box;padding-bottom: 0.4em;background-color: white;}#sk-container-id-1 div.sk-label label {font-family: monospace;font-weight: bold;display: inline-block;line-height: 1.2em;}#sk-container-id-1 div.sk-label-container {text-align: center;}#sk-container-id-1 div.sk-container {/* jupyter's `normalize.less` sets `[hidden] { display: none; }` but bootstrap.min.css set `[hidden] { display: none !important; }` so we also need the `!important` here to be able to override the default hidden behavior on the sphinx rendered scikit-learn.org. See: https://github.com/scikit-learn/scikit-learn/issues/21755 */display: inline-block !important;position: relative;}#sk-container-id-1 div.sk-text-repr-fallback {display: none;}</style><div id=\"sk-container-id-1\" class=\"sk-top-container\"><div class=\"sk-text-repr-fallback\"><pre>RandomForestClassifier()</pre><b>In a Jupyter environment, please rerun this cell to show the HTML representation or trust the notebook. <br />On GitHub, the HTML representation is unable to render, please try loading this page with nbviewer.org.</b></div><div class=\"sk-container\" hidden><div class=\"sk-item\"><div class=\"sk-estimator sk-toggleable\"><input class=\"sk-toggleable__control sk-hidden--visually\" id=\"sk-estimator-id-1\" type=\"checkbox\" checked><label for=\"sk-estimator-id-1\" class=\"sk-toggleable__label sk-toggleable__label-arrow\">RandomForestClassifier</label><div class=\"sk-toggleable__content\"><pre>RandomForestClassifier()</pre></div></div></div></div></div>"
      ],
      "text/plain": [
       "RandomForestClassifier()"
      ]
     },
     "execution_count": 13,
     "metadata": {},
     "output_type": "execute_result"
    }
   ],
   "source": [
    "from sklearn.ensemble import RandomForestClassifier\n",
    "r=RandomForestClassifier(n_estimators=100)\n",
    "r.fit(x_train,y_train)"
   ]
  },
  {
   "cell_type": "code",
   "execution_count": 14,
   "metadata": {},
   "outputs": [
    {
     "data": {
      "text/plain": [
       "1.0"
      ]
     },
     "execution_count": 14,
     "metadata": {},
     "output_type": "execute_result"
    }
   ],
   "source": [
    "r.score(x_train,y_train)"
   ]
  },
  {
   "cell_type": "code",
   "execution_count": 15,
   "metadata": {},
   "outputs": [
    {
     "data": {
      "text/plain": [
       "0.9977614326830828"
      ]
     },
     "execution_count": 15,
     "metadata": {},
     "output_type": "execute_result"
    }
   ],
   "source": [
    "r.score(x_test,y_test)"
   ]
  },
  {
   "cell_type": "code",
   "execution_count": 16,
   "metadata": {},
   "outputs": [
    {
     "name": "stderr",
     "output_type": "stream",
     "text": [
      "c:\\Users\\debna\\anaconda3\\Lib\\site-packages\\sklearn\\base.py:439: UserWarning: X does not have valid feature names, but RandomForestClassifier was fitted with feature names\n",
      "  warnings.warn(\n"
     ]
    },
    {
     "data": {
      "text/plain": [
       "array(['Apollo Asteroid (Hazard)'], dtype=object)"
      ]
     },
     "execution_count": 16,
     "metadata": {},
     "output_type": "execute_result"
    }
   ],
   "source": [
    "r.predict([[57800,1.0781,0.8269,22.8255,31.383,88.0107,215.5288,0.1867,1.97,1.12,0.0345,100,16.9]])"
   ]
  },
  {
   "cell_type": "code",
   "execution_count": 17,
   "metadata": {},
   "outputs": [
    {
     "name": "stderr",
     "output_type": "stream",
     "text": [
      "c:\\Users\\debna\\anaconda3\\Lib\\site-packages\\sklearn\\base.py:439: UserWarning: X does not have valid feature names, but RandomForestClassifier was fitted with feature names\n",
      "  warnings.warn(\n"
     ]
    },
    {
     "data": {
      "text/plain": [
       "array(['Amor Asteroid'], dtype=object)"
      ]
     },
     "execution_count": 17,
     "metadata": {},
     "output_type": "execute_result"
    }
   ],
   "source": [
    "r.predict([[57800,2.1973,0.4875,52.0908,159.4852,62.2921,191.9105,1.126,3.27,3.26,0.1361,191,14.8]])"
   ]
  },
  {
   "cell_type": "markdown",
   "metadata": {},
   "source": [
    "To predict the magnitude of asteroid(Regression)"
   ]
  },
  {
   "cell_type": "code",
   "execution_count": 18,
   "metadata": {},
   "outputs": [
    {
     "data": {
      "text/plain": [
       "Index(['Object Name', 'Object Classification', 'Epoch (TDB)',\n",
       "       'Orbit Axis (AU)', 'Orbit Eccentricity', 'Orbit Inclination (deg)',\n",
       "       'Perihelion Argument (deg)', 'Node Longitude (deg)',\n",
       "       'Mean Anomoly (deg)', 'Perihelion Distance (AU)',\n",
       "       'Aphelion Distance (AU)', 'Orbital Period (yr)',\n",
       "       'Minimum Orbit Intersection Distance (AU)', 'Orbital Reference',\n",
       "       'Asteroid Magnitude'],\n",
       "      dtype='object')"
      ]
     },
     "execution_count": 18,
     "metadata": {},
     "output_type": "execute_result"
    }
   ],
   "source": [
    "df.columns"
   ]
  },
  {
   "cell_type": "code",
   "execution_count": 19,
   "metadata": {},
   "outputs": [],
   "source": [
    "x=df.iloc[:,2:-1]"
   ]
  },
  {
   "cell_type": "code",
   "execution_count": 20,
   "metadata": {},
   "outputs": [
    {
     "data": {
      "text/plain": [
       "Index(['Epoch (TDB)', 'Orbit Axis (AU)', 'Orbit Eccentricity',\n",
       "       'Orbit Inclination (deg)', 'Perihelion Argument (deg)',\n",
       "       'Node Longitude (deg)', 'Mean Anomoly (deg)',\n",
       "       'Perihelion Distance (AU)', 'Aphelion Distance (AU)',\n",
       "       'Orbital Period (yr)', 'Minimum Orbit Intersection Distance (AU)',\n",
       "       'Orbital Reference'],\n",
       "      dtype='object')"
      ]
     },
     "execution_count": 20,
     "metadata": {},
     "output_type": "execute_result"
    }
   ],
   "source": [
    "x.columns"
   ]
  },
  {
   "cell_type": "code",
   "execution_count": 21,
   "metadata": {},
   "outputs": [],
   "source": [
    "y=df[['Asteroid Magnitude']]"
   ]
  },
  {
   "cell_type": "code",
   "execution_count": 22,
   "metadata": {},
   "outputs": [
    {
     "data": {
      "text/html": [
       "<div>\n",
       "<style scoped>\n",
       "    .dataframe tbody tr th:only-of-type {\n",
       "        vertical-align: middle;\n",
       "    }\n",
       "\n",
       "    .dataframe tbody tr th {\n",
       "        vertical-align: top;\n",
       "    }\n",
       "\n",
       "    .dataframe thead th {\n",
       "        text-align: right;\n",
       "    }\n",
       "</style>\n",
       "<table border=\"1\" class=\"dataframe\">\n",
       "  <thead>\n",
       "    <tr style=\"text-align: right;\">\n",
       "      <th></th>\n",
       "      <th>Asteroid Magnitude</th>\n",
       "    </tr>\n",
       "  </thead>\n",
       "  <tbody>\n",
       "    <tr>\n",
       "      <th>0</th>\n",
       "      <td>11.16</td>\n",
       "    </tr>\n",
       "    <tr>\n",
       "      <th>1</th>\n",
       "      <td>15.50</td>\n",
       "    </tr>\n",
       "    <tr>\n",
       "      <th>2</th>\n",
       "      <td>13.40</td>\n",
       "    </tr>\n",
       "    <tr>\n",
       "      <th>3</th>\n",
       "      <td>9.45</td>\n",
       "    </tr>\n",
       "    <tr>\n",
       "      <th>4</th>\n",
       "      <td>17.70</td>\n",
       "    </tr>\n",
       "    <tr>\n",
       "      <th>...</th>\n",
       "      <td>...</td>\n",
       "    </tr>\n",
       "    <tr>\n",
       "      <th>15630</th>\n",
       "      <td>28.21</td>\n",
       "    </tr>\n",
       "    <tr>\n",
       "      <th>15631</th>\n",
       "      <td>20.04</td>\n",
       "    </tr>\n",
       "    <tr>\n",
       "      <th>15632</th>\n",
       "      <td>24.74</td>\n",
       "    </tr>\n",
       "    <tr>\n",
       "      <th>15633</th>\n",
       "      <td>26.95</td>\n",
       "    </tr>\n",
       "    <tr>\n",
       "      <th>15634</th>\n",
       "      <td>20.40</td>\n",
       "    </tr>\n",
       "  </tbody>\n",
       "</table>\n",
       "<p>15634 rows × 1 columns</p>\n",
       "</div>"
      ],
      "text/plain": [
       "       Asteroid Magnitude\n",
       "0                   11.16\n",
       "1                   15.50\n",
       "2                   13.40\n",
       "3                    9.45\n",
       "4                   17.70\n",
       "...                   ...\n",
       "15630               28.21\n",
       "15631               20.04\n",
       "15632               24.74\n",
       "15633               26.95\n",
       "15634               20.40\n",
       "\n",
       "[15634 rows x 1 columns]"
      ]
     },
     "execution_count": 22,
     "metadata": {},
     "output_type": "execute_result"
    }
   ],
   "source": [
    "y"
   ]
  },
  {
   "cell_type": "code",
   "execution_count": 23,
   "metadata": {},
   "outputs": [],
   "source": [
    "from sklearn.model_selection import train_test_split\n",
    "x_train,x_test,y_train,y_test=train_test_split(x,y,test_size=0.2,random_state=128)"
   ]
  },
  {
   "cell_type": "code",
   "execution_count": 24,
   "metadata": {},
   "outputs": [
    {
     "name": "stderr",
     "output_type": "stream",
     "text": [
      "C:\\Users\\debna\\AppData\\Local\\Temp\\ipykernel_5324\\2476235993.py:3: DataConversionWarning: A column-vector y was passed when a 1d array was expected. Please change the shape of y to (n_samples,), for example using ravel().\n",
      "  r.fit(x_train,y_train)\n"
     ]
    },
    {
     "data": {
      "text/html": [
       "<style>#sk-container-id-2 {color: black;background-color: white;}#sk-container-id-2 pre{padding: 0;}#sk-container-id-2 div.sk-toggleable {background-color: white;}#sk-container-id-2 label.sk-toggleable__label {cursor: pointer;display: block;width: 100%;margin-bottom: 0;padding: 0.3em;box-sizing: border-box;text-align: center;}#sk-container-id-2 label.sk-toggleable__label-arrow:before {content: \"▸\";float: left;margin-right: 0.25em;color: #696969;}#sk-container-id-2 label.sk-toggleable__label-arrow:hover:before {color: black;}#sk-container-id-2 div.sk-estimator:hover label.sk-toggleable__label-arrow:before {color: black;}#sk-container-id-2 div.sk-toggleable__content {max-height: 0;max-width: 0;overflow: hidden;text-align: left;background-color: #f0f8ff;}#sk-container-id-2 div.sk-toggleable__content pre {margin: 0.2em;color: black;border-radius: 0.25em;background-color: #f0f8ff;}#sk-container-id-2 input.sk-toggleable__control:checked~div.sk-toggleable__content {max-height: 200px;max-width: 100%;overflow: auto;}#sk-container-id-2 input.sk-toggleable__control:checked~label.sk-toggleable__label-arrow:before {content: \"▾\";}#sk-container-id-2 div.sk-estimator input.sk-toggleable__control:checked~label.sk-toggleable__label {background-color: #d4ebff;}#sk-container-id-2 div.sk-label input.sk-toggleable__control:checked~label.sk-toggleable__label {background-color: #d4ebff;}#sk-container-id-2 input.sk-hidden--visually {border: 0;clip: rect(1px 1px 1px 1px);clip: rect(1px, 1px, 1px, 1px);height: 1px;margin: -1px;overflow: hidden;padding: 0;position: absolute;width: 1px;}#sk-container-id-2 div.sk-estimator {font-family: monospace;background-color: #f0f8ff;border: 1px dotted black;border-radius: 0.25em;box-sizing: border-box;margin-bottom: 0.5em;}#sk-container-id-2 div.sk-estimator:hover {background-color: #d4ebff;}#sk-container-id-2 div.sk-parallel-item::after {content: \"\";width: 100%;border-bottom: 1px solid gray;flex-grow: 1;}#sk-container-id-2 div.sk-label:hover label.sk-toggleable__label {background-color: #d4ebff;}#sk-container-id-2 div.sk-serial::before {content: \"\";position: absolute;border-left: 1px solid gray;box-sizing: border-box;top: 0;bottom: 0;left: 50%;z-index: 0;}#sk-container-id-2 div.sk-serial {display: flex;flex-direction: column;align-items: center;background-color: white;padding-right: 0.2em;padding-left: 0.2em;position: relative;}#sk-container-id-2 div.sk-item {position: relative;z-index: 1;}#sk-container-id-2 div.sk-parallel {display: flex;align-items: stretch;justify-content: center;background-color: white;position: relative;}#sk-container-id-2 div.sk-item::before, #sk-container-id-2 div.sk-parallel-item::before {content: \"\";position: absolute;border-left: 1px solid gray;box-sizing: border-box;top: 0;bottom: 0;left: 50%;z-index: -1;}#sk-container-id-2 div.sk-parallel-item {display: flex;flex-direction: column;z-index: 1;position: relative;background-color: white;}#sk-container-id-2 div.sk-parallel-item:first-child::after {align-self: flex-end;width: 50%;}#sk-container-id-2 div.sk-parallel-item:last-child::after {align-self: flex-start;width: 50%;}#sk-container-id-2 div.sk-parallel-item:only-child::after {width: 0;}#sk-container-id-2 div.sk-dashed-wrapped {border: 1px dashed gray;margin: 0 0.4em 0.5em 0.4em;box-sizing: border-box;padding-bottom: 0.4em;background-color: white;}#sk-container-id-2 div.sk-label label {font-family: monospace;font-weight: bold;display: inline-block;line-height: 1.2em;}#sk-container-id-2 div.sk-label-container {text-align: center;}#sk-container-id-2 div.sk-container {/* jupyter's `normalize.less` sets `[hidden] { display: none; }` but bootstrap.min.css set `[hidden] { display: none !important; }` so we also need the `!important` here to be able to override the default hidden behavior on the sphinx rendered scikit-learn.org. See: https://github.com/scikit-learn/scikit-learn/issues/21755 */display: inline-block !important;position: relative;}#sk-container-id-2 div.sk-text-repr-fallback {display: none;}</style><div id=\"sk-container-id-2\" class=\"sk-top-container\"><div class=\"sk-text-repr-fallback\"><pre>RandomForestRegressor(n_estimators=50)</pre><b>In a Jupyter environment, please rerun this cell to show the HTML representation or trust the notebook. <br />On GitHub, the HTML representation is unable to render, please try loading this page with nbviewer.org.</b></div><div class=\"sk-container\" hidden><div class=\"sk-item\"><div class=\"sk-estimator sk-toggleable\"><input class=\"sk-toggleable__control sk-hidden--visually\" id=\"sk-estimator-id-2\" type=\"checkbox\" checked><label for=\"sk-estimator-id-2\" class=\"sk-toggleable__label sk-toggleable__label-arrow\">RandomForestRegressor</label><div class=\"sk-toggleable__content\"><pre>RandomForestRegressor(n_estimators=50)</pre></div></div></div></div></div>"
      ],
      "text/plain": [
       "RandomForestRegressor(n_estimators=50)"
      ]
     },
     "execution_count": 24,
     "metadata": {},
     "output_type": "execute_result"
    }
   ],
   "source": [
    "from sklearn.ensemble import RandomForestRegressor\n",
    "r=RandomForestRegressor(n_estimators=50)\n",
    "r.fit(x_train,y_train)"
   ]
  },
  {
   "cell_type": "code",
   "execution_count": 25,
   "metadata": {},
   "outputs": [
    {
     "data": {
      "text/plain": [
       "0.975490485513331"
      ]
     },
     "execution_count": 25,
     "metadata": {},
     "output_type": "execute_result"
    }
   ],
   "source": [
    "r.score(x_train,y_train)"
   ]
  },
  {
   "cell_type": "code",
   "execution_count": 26,
   "metadata": {},
   "outputs": [
    {
     "data": {
      "text/plain": [
       "0.8358174712363333"
      ]
     },
     "execution_count": 26,
     "metadata": {},
     "output_type": "execute_result"
    }
   ],
   "source": [
    "r.score(x_test,y_test)"
   ]
  },
  {
   "cell_type": "code",
   "execution_count": 27,
   "metadata": {},
   "outputs": [
    {
     "name": "stderr",
     "output_type": "stream",
     "text": [
      "c:\\Users\\debna\\anaconda3\\Lib\\site-packages\\sklearn\\base.py:439: UserWarning: X does not have valid feature names, but RandomForestRegressor was fitted with feature names\n",
      "  warnings.warn(\n"
     ]
    },
    {
     "data": {
      "text/plain": [
       "array([16.374])"
      ]
     },
     "execution_count": 27,
     "metadata": {},
     "output_type": "execute_result"
    }
   ],
   "source": [
    "r.predict([[57800,1.1781,0.8569,22.9255,34.383,98.0107,235.5298,0.8867,2.9,1.22,0.035,110]])"
   ]
  },
  {
   "cell_type": "code",
   "execution_count": null,
   "metadata": {},
   "outputs": [],
   "source": []
  }
 ],
 "metadata": {
  "kernelspec": {
   "display_name": "base",
   "language": "python",
   "name": "python3"
  },
  "language_info": {
   "codemirror_mode": {
    "name": "ipython",
    "version": 3
   },
   "file_extension": ".py",
   "mimetype": "text/x-python",
   "name": "python",
   "nbconvert_exporter": "python",
   "pygments_lexer": "ipython3",
   "version": "3.11.7"
  }
 },
 "nbformat": 4,
 "nbformat_minor": 2
}
